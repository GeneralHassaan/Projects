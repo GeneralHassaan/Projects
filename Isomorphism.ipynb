{
  "nbformat": 4,
  "nbformat_minor": 0,
  "metadata": {
    "colab": {
      "provenance": [],
      "authorship_tag": "ABX9TyOqb/CXatVeiQA/aIthql79",
      "include_colab_link": true
    },
    "kernelspec": {
      "name": "python3",
      "display_name": "Python 3"
    },
    "language_info": {
      "name": "python"
    }
  },
  "cells": [
    {
      "cell_type": "markdown",
      "metadata": {
        "id": "view-in-github",
        "colab_type": "text"
      },
      "source": [
        "<a href=\"https://colab.research.google.com/github/GeneralHassaan/Projects/blob/main/Isomorphism.ipynb\" target=\"_parent\"><img src=\"https://colab.research.google.com/assets/colab-badge.svg\" alt=\"Open In Colab\"/></a>"
      ]
    },
    {
      "cell_type": "code",
      "execution_count": 5,
      "metadata": {
        "colab": {
          "base_uri": "https://localhost:8080/"
        },
        "id": "4e7xcyGfZuYP",
        "outputId": "049bc7a6-2989-444d-9a36-440beef2ce0d"
      },
      "outputs": [
        {
          "output_type": "stream",
          "name": "stdout",
          "text": [
            "False\n"
          ]
        }
      ],
      "source": [
        "def isIsomorphic(str1, str2):          \n",
        "    dict_str1 = {}\n",
        "    dict_str2 = {}\n",
        "    \n",
        "    for i, value in enumerate(str1):\n",
        "        dict_str1[value] = dict_str1.get(value, []) + [i]\n",
        "            \n",
        "    for j, value in enumerate(str2):\n",
        "        dict_str2[value] = dict_str2.get(value, []) + [j]\n",
        "    \n",
        "    if sorted(dict_str1.values()) == sorted(dict_str2.values()):\n",
        "        return True\n",
        "    else:\n",
        "        return False\n",
        "\n",
        "print(isIsomorphic(\"foo\", \"bar\"));\n",
        "   "
      ]
    }
  ]
}