{
  "nbformat": 4,
  "nbformat_minor": 0,
  "metadata": {
    "colab": {
      "provenance": [],
      "collapsed_sections": [],
      "include_colab_link": true
    },
    "kernelspec": {
      "name": "python3",
      "display_name": "Python 3"
    },
    "language_info": {
      "name": "python"
    }
  },
  "cells": [
    {
      "cell_type": "markdown",
      "metadata": {
        "id": "view-in-github",
        "colab_type": "text"
      },
      "source": [
        "<a href=\"https://colab.research.google.com/github/GeneralHassaan/Projects/blob/main/PCA_Model_2.ipynb\" target=\"_parent\"><img src=\"https://colab.research.google.com/assets/colab-badge.svg\" alt=\"Open In Colab\"/></a>"
      ]
    },
    {
      "cell_type": "markdown",
      "source": [
        "HASSAAN ASIF\n"
      ],
      "metadata": {
        "id": "yBjrmDF1D4Ib"
      }
    },
    {
      "cell_type": "code",
      "source": [
        "# Imports\n",
        "import numpy as np\n",
        "import matplotlib.pyplot as plt\n",
        "import pandas as pd\n",
        "from sklearn.preprocessing import LabelEncoder, StandardScaler\n",
        "from sklearn.decomposition import PCA\n",
        "from sklearn.neighbors import KNeighborsClassifier\n",
        "from sklearn.pipeline import make_pipeline\n",
        "from sklearn.metrics import classification_report\n"
      ],
      "metadata": {
        "id": "QGa53D23Twlh"
      },
      "execution_count": 1,
      "outputs": []
    },
    {
      "cell_type": "code",
      "source": [
        "from keras.datasets import mnist\n",
        "# load data\n",
        "(X_train, y_train), (X_test, y_test) = mnist.load_data()\n",
        "# reshape data\n",
        "X_train = X_train.reshape(X_train.shape[0], -1)\n",
        "X_test = X_test.reshape(X_test.shape[0], -1)"
      ],
      "metadata": {
        "id": "60Mv4ILsVgKB",
        "colab": {
          "base_uri": "https://localhost:8080/"
        },
        "outputId": "4ce69cd3-9d06-463f-c040-95233cdbbeb8"
      },
      "execution_count": 2,
      "outputs": [
        {
          "output_type": "stream",
          "name": "stdout",
          "text": [
            "Downloading data from https://storage.googleapis.com/tensorflow/tf-keras-datasets/mnist.npz\n",
            "11490434/11490434 [==============================] - 0s 0us/step\n"
          ]
        }
      ]
    },
    {
      "cell_type": "code",
      "source": [
        "# scaling data\n",
        "\n",
        "scaler = StandardScaler()\n",
        "\n",
        "knn = KNeighborsClassifier(n_neighbors=1)"
      ],
      "metadata": {
        "id": "IFlll8Evz-lE"
      },
      "execution_count": 16,
      "outputs": []
    },
    {
      "cell_type": "code",
      "source": [
        "%%time\n",
        "# Without PCA transformation / original data\n",
        "knn_pipe = make_pipeline(scaler, knn)\n",
        "knn_pipe.fit(X_train, y_train)\n",
        "\n"
      ],
      "metadata": {
        "colab": {
          "base_uri": "https://localhost:8080/"
        },
        "id": "_V-94nxylMZS",
        "outputId": "a9c95843-feab-43b9-8740-959f34dd5e47"
      },
      "execution_count": 17,
      "outputs": [
        {
          "output_type": "stream",
          "name": "stdout",
          "text": [
            "CPU times: user 684 ms, sys: 635 ms, total: 1.32 s\n",
            "Wall time: 1.32 s\n"
          ]
        },
        {
          "output_type": "execute_result",
          "data": {
            "text/plain": [
              "Pipeline(steps=[('standardscaler', StandardScaler()),\n",
              "                ('kneighborsclassifier', KNeighborsClassifier(n_neighbors=1))])"
            ]
          },
          "metadata": {},
          "execution_count": 17
        }
      ]
    },
    {
      "cell_type": "code",
      "source": [
        "%%time\n",
        "pred_1 = knn_pipe.predict(X_test)"
      ],
      "metadata": {
        "colab": {
          "base_uri": "https://localhost:8080/"
        },
        "id": "szNe3E8Ku34y",
        "outputId": "9fcf2e11-1be9-4176-fcc1-3737af387a5c"
      },
      "execution_count": 18,
      "outputs": [
        {
          "output_type": "stream",
          "name": "stdout",
          "text": [
            "CPU times: user 1min 3s, sys: 2.16 s, total: 1min 5s\n",
            "Wall time: 36.1 s\n"
          ]
        }
      ]
    },
    {
      "cell_type": "code",
      "source": [
        "print(classification_report(y_test, pred_1))"
      ],
      "metadata": {
        "colab": {
          "base_uri": "https://localhost:8080/"
        },
        "id": "L7zUE-yewCXR",
        "outputId": "26c7325e-3a7b-41e4-e629-fa1f43187fa6"
      },
      "execution_count": 20,
      "outputs": [
        {
          "output_type": "stream",
          "name": "stdout",
          "text": [
            "              precision    recall  f1-score   support\n",
            "\n",
            "           0       0.95      0.98      0.97       980\n",
            "           1       0.96      0.99      0.98      1135\n",
            "           2       0.96      0.94      0.95      1032\n",
            "           3       0.91      0.94      0.93      1010\n",
            "           4       0.95      0.94      0.95       982\n",
            "           5       0.92      0.91      0.92       892\n",
            "           6       0.97      0.97      0.97       958\n",
            "           7       0.94      0.93      0.93      1028\n",
            "           8       0.94      0.90      0.92       974\n",
            "           9       0.91      0.92      0.92      1009\n",
            "\n",
            "    accuracy                           0.94     10000\n",
            "   macro avg       0.94      0.94      0.94     10000\n",
            "weighted avg       0.94      0.94      0.94     10000\n",
            "\n"
          ]
        }
      ]
    },
    {
      "cell_type": "code",
      "source": [
        "# with pca data\n",
        "pca = PCA(n_components=0.95)"
      ],
      "metadata": {
        "id": "SLguJTPAlMg3"
      },
      "execution_count": 24,
      "outputs": []
    },
    {
      "cell_type": "code",
      "source": [
        "knn_pca_pipe = make_pipeline(scaler,pca, knn)"
      ],
      "metadata": {
        "id": "Ii9ghjF7uJDJ"
      },
      "execution_count": 25,
      "outputs": []
    },
    {
      "cell_type": "code",
      "source": [
        "%%time\n",
        "knn_pca_pipe.fit(X_train, y_train)"
      ],
      "metadata": {
        "colab": {
          "base_uri": "https://localhost:8080/"
        },
        "id": "WJNt6F_quJM-",
        "outputId": "cbadb26c-561c-4aa5-9300-1db0b67ddc75"
      },
      "execution_count": 26,
      "outputs": [
        {
          "output_type": "stream",
          "name": "stdout",
          "text": [
            "CPU times: user 24.8 s, sys: 1.02 s, total: 25.8 s\n",
            "Wall time: 14.3 s\n"
          ]
        },
        {
          "output_type": "execute_result",
          "data": {
            "text/plain": [
              "Pipeline(steps=[('standardscaler', StandardScaler()),\n",
              "                ('pca', PCA(n_components=0.95)),\n",
              "                ('kneighborsclassifier', KNeighborsClassifier(n_neighbors=1))])"
            ]
          },
          "metadata": {},
          "execution_count": 26
        }
      ]
    },
    {
      "cell_type": "code",
      "source": [
        "%%time\n",
        "pred_2 = knn_pca_pipe.predict(X_test)"
      ],
      "metadata": {
        "colab": {
          "base_uri": "https://localhost:8080/"
        },
        "id": "R6h_D5Dhwikg",
        "outputId": "dd7cd2b9-062d-44ed-ea86-537f4bb2fbee"
      },
      "execution_count": 27,
      "outputs": [
        {
          "output_type": "stream",
          "name": "stdout",
          "text": [
            "CPU times: user 30.6 s, sys: 958 ms, total: 31.5 s\n",
            "Wall time: 18.3 s\n"
          ]
        }
      ]
    },
    {
      "cell_type": "code",
      "source": [
        "print(classification_report(y_test, pred_2))"
      ],
      "metadata": {
        "colab": {
          "base_uri": "https://localhost:8080/"
        },
        "id": "cgF2WpVSuJWA",
        "outputId": "d7bf2b67-4fea-4261-d6f2-1e07418c07c8"
      },
      "execution_count": 28,
      "outputs": [
        {
          "output_type": "stream",
          "name": "stdout",
          "text": [
            "              precision    recall  f1-score   support\n",
            "\n",
            "           0       0.96      0.99      0.97       980\n",
            "           1       0.97      0.99      0.98      1135\n",
            "           2       0.96      0.94      0.95      1032\n",
            "           3       0.93      0.94      0.93      1010\n",
            "           4       0.96      0.95      0.96       982\n",
            "           5       0.93      0.92      0.92       892\n",
            "           6       0.97      0.97      0.97       958\n",
            "           7       0.94      0.94      0.94      1028\n",
            "           8       0.94      0.91      0.92       974\n",
            "           9       0.93      0.93      0.93      1009\n",
            "\n",
            "    accuracy                           0.95     10000\n",
            "   macro avg       0.95      0.95      0.95     10000\n",
            "weighted avg       0.95      0.95      0.95     10000\n",
            "\n"
          ]
        }
      ]
    },
    {
      "cell_type": "markdown",
      "source": [
        "The PCA model performed the best on the test set."
      ],
      "metadata": {
        "id": "5YA3mw91iwPP"
      }
    },
    {
      "cell_type": "markdown",
      "source": [
        "The PCA model made the fastest predications.\n",
        "\n",
        "\n",
        "\n"
      ],
      "metadata": {
        "id": "CYje-H4fiwTK"
      }
    }
  ]
}