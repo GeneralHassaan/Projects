{
  "nbformat": 4,
  "nbformat_minor": 0,
  "metadata": {
    "colab": {
      "name": "ML_Trees.ipynb",
      "provenance": [],
      "include_colab_link": true
    },
    "kernelspec": {
      "name": "python3",
      "display_name": "Python 3"
    },
    "language_info": {
      "name": "python"
    }
  },
  "cells": [
    {
      "cell_type": "markdown",
      "metadata": {
        "id": "view-in-github",
        "colab_type": "text"
      },
      "source": [
        "<a href=\"https://colab.research.google.com/github/GeneralHassaan/Projects/blob/main/ML_Trees.ipynb\" target=\"_parent\"><img src=\"https://colab.research.google.com/assets/colab-badge.svg\" alt=\"Open In Colab\"/></a>"
      ]
    },
    {
      "cell_type": "code",
      "execution_count": 48,
      "metadata": {
        "id": "bL3YN8ib2b5Q"
      },
      "outputs": [],
      "source": [
        "# Hassaan Asif"
      ]
    },
    {
      "cell_type": "code",
      "source": [
        "import pandas as pd\n",
        "from sklearn.tree import DecisionTreeRegressor\n",
        "from sklearn.ensemble import BaggingRegressor\n",
        "from sklearn.ensemble import RandomForestRegressor\n"
      ],
      "metadata": {
        "id": "--_GavMZ29-9"
      },
      "execution_count": 49,
      "outputs": []
    },
    {
      "cell_type": "code",
      "source": [
        "filename = '/content/Boston_Housing_from_Sklearn.csv'\n",
        "df = pd.read_csv(filename)\n",
        "df.head(4)"
      ],
      "metadata": {
        "colab": {
          "base_uri": "https://localhost:8080/",
          "height": 220
        },
        "id": "ZfuRur-Z2lO3",
        "outputId": "706c7a48-bd27-4fcd-80c7-b37104881fba"
      },
      "execution_count": 50,
      "outputs": [
        {
          "output_type": "execute_result",
          "data": {
            "text/plain": [
              "      CRIM    NOX     RM   AGE  PTRATIO  LSTAT  PRICE\n",
              "0  0.00632  0.538  6.575  65.2     15.3   4.98   24.0\n",
              "1  0.02731  0.469  6.421  78.9     17.8   9.14   21.6\n",
              "2  0.02729  0.469  7.185  61.1     17.8   4.03   34.7\n",
              "3  0.03237  0.458  6.998  45.8     18.7   2.94   33.4"
            ],
            "text/html": [
              "\n",
              "  <div id=\"df-84763dc2-9fdf-470d-85a9-5011417a682f\">\n",
              "    <div class=\"colab-df-container\">\n",
              "      <div>\n",
              "<style scoped>\n",
              "    .dataframe tbody tr th:only-of-type {\n",
              "        vertical-align: middle;\n",
              "    }\n",
              "\n",
              "    .dataframe tbody tr th {\n",
              "        vertical-align: top;\n",
              "    }\n",
              "\n",
              "    .dataframe thead th {\n",
              "        text-align: right;\n",
              "    }\n",
              "</style>\n",
              "<table border=\"1\" class=\"dataframe\">\n",
              "  <thead>\n",
              "    <tr style=\"text-align: right;\">\n",
              "      <th></th>\n",
              "      <th>CRIM</th>\n",
              "      <th>NOX</th>\n",
              "      <th>RM</th>\n",
              "      <th>AGE</th>\n",
              "      <th>PTRATIO</th>\n",
              "      <th>LSTAT</th>\n",
              "      <th>PRICE</th>\n",
              "    </tr>\n",
              "  </thead>\n",
              "  <tbody>\n",
              "    <tr>\n",
              "      <th>0</th>\n",
              "      <td>0.00632</td>\n",
              "      <td>0.538</td>\n",
              "      <td>6.575</td>\n",
              "      <td>65.2</td>\n",
              "      <td>15.3</td>\n",
              "      <td>4.98</td>\n",
              "      <td>24.0</td>\n",
              "    </tr>\n",
              "    <tr>\n",
              "      <th>1</th>\n",
              "      <td>0.02731</td>\n",
              "      <td>0.469</td>\n",
              "      <td>6.421</td>\n",
              "      <td>78.9</td>\n",
              "      <td>17.8</td>\n",
              "      <td>9.14</td>\n",
              "      <td>21.6</td>\n",
              "    </tr>\n",
              "    <tr>\n",
              "      <th>2</th>\n",
              "      <td>0.02729</td>\n",
              "      <td>0.469</td>\n",
              "      <td>7.185</td>\n",
              "      <td>61.1</td>\n",
              "      <td>17.8</td>\n",
              "      <td>4.03</td>\n",
              "      <td>34.7</td>\n",
              "    </tr>\n",
              "    <tr>\n",
              "      <th>3</th>\n",
              "      <td>0.03237</td>\n",
              "      <td>0.458</td>\n",
              "      <td>6.998</td>\n",
              "      <td>45.8</td>\n",
              "      <td>18.7</td>\n",
              "      <td>2.94</td>\n",
              "      <td>33.4</td>\n",
              "    </tr>\n",
              "  </tbody>\n",
              "</table>\n",
              "</div>\n",
              "      <button class=\"colab-df-convert\" onclick=\"convertToInteractive('df-84763dc2-9fdf-470d-85a9-5011417a682f')\"\n",
              "              title=\"Convert this dataframe to an interactive table.\"\n",
              "              style=\"display:none;\">\n",
              "        \n",
              "  <svg xmlns=\"http://www.w3.org/2000/svg\" height=\"24px\"viewBox=\"0 0 24 24\"\n",
              "       width=\"24px\">\n",
              "    <path d=\"M0 0h24v24H0V0z\" fill=\"none\"/>\n",
              "    <path d=\"M18.56 5.44l.94 2.06.94-2.06 2.06-.94-2.06-.94-.94-2.06-.94 2.06-2.06.94zm-11 1L8.5 8.5l.94-2.06 2.06-.94-2.06-.94L8.5 2.5l-.94 2.06-2.06.94zm10 10l.94 2.06.94-2.06 2.06-.94-2.06-.94-.94-2.06-.94 2.06-2.06.94z\"/><path d=\"M17.41 7.96l-1.37-1.37c-.4-.4-.92-.59-1.43-.59-.52 0-1.04.2-1.43.59L10.3 9.45l-7.72 7.72c-.78.78-.78 2.05 0 2.83L4 21.41c.39.39.9.59 1.41.59.51 0 1.02-.2 1.41-.59l7.78-7.78 2.81-2.81c.8-.78.8-2.07 0-2.86zM5.41 20L4 18.59l7.72-7.72 1.47 1.35L5.41 20z\"/>\n",
              "  </svg>\n",
              "      </button>\n",
              "      \n",
              "  <style>\n",
              "    .colab-df-container {\n",
              "      display:flex;\n",
              "      flex-wrap:wrap;\n",
              "      gap: 12px;\n",
              "    }\n",
              "\n",
              "    .colab-df-convert {\n",
              "      background-color: #E8F0FE;\n",
              "      border: none;\n",
              "      border-radius: 50%;\n",
              "      cursor: pointer;\n",
              "      display: none;\n",
              "      fill: #1967D2;\n",
              "      height: 32px;\n",
              "      padding: 0 0 0 0;\n",
              "      width: 32px;\n",
              "    }\n",
              "\n",
              "    .colab-df-convert:hover {\n",
              "      background-color: #E2EBFA;\n",
              "      box-shadow: 0px 1px 2px rgba(60, 64, 67, 0.3), 0px 1px 3px 1px rgba(60, 64, 67, 0.15);\n",
              "      fill: #174EA6;\n",
              "    }\n",
              "\n",
              "    [theme=dark] .colab-df-convert {\n",
              "      background-color: #3B4455;\n",
              "      fill: #D2E3FC;\n",
              "    }\n",
              "\n",
              "    [theme=dark] .colab-df-convert:hover {\n",
              "      background-color: #434B5C;\n",
              "      box-shadow: 0px 1px 3px 1px rgba(0, 0, 0, 0.15);\n",
              "      filter: drop-shadow(0px 1px 2px rgba(0, 0, 0, 0.3));\n",
              "      fill: #FFFFFF;\n",
              "    }\n",
              "  </style>\n",
              "\n",
              "      <script>\n",
              "        const buttonEl =\n",
              "          document.querySelector('#df-84763dc2-9fdf-470d-85a9-5011417a682f button.colab-df-convert');\n",
              "        buttonEl.style.display =\n",
              "          google.colab.kernel.accessAllowed ? 'block' : 'none';\n",
              "\n",
              "        async function convertToInteractive(key) {\n",
              "          const element = document.querySelector('#df-84763dc2-9fdf-470d-85a9-5011417a682f');\n",
              "          const dataTable =\n",
              "            await google.colab.kernel.invokeFunction('convertToInteractive',\n",
              "                                                     [key], {});\n",
              "          if (!dataTable) return;\n",
              "\n",
              "          const docLinkHtml = 'Like what you see? Visit the ' +\n",
              "            '<a target=\"_blank\" href=https://colab.research.google.com/notebooks/data_table.ipynb>data table notebook</a>'\n",
              "            + ' to learn more about interactive tables.';\n",
              "          element.innerHTML = '';\n",
              "          dataTable['output_type'] = 'display_data';\n",
              "          await google.colab.output.renderOutput(dataTable, element);\n",
              "          const docLink = document.createElement('div');\n",
              "          docLink.innerHTML = docLinkHtml;\n",
              "          element.appendChild(docLink);\n",
              "        }\n",
              "      </script>\n",
              "    </div>\n",
              "  </div>\n",
              "  "
            ]
          },
          "metadata": {},
          "execution_count": 50
        }
      ]
    },
    {
      "cell_type": "code",
      "source": [
        "y = df['PRICE']\n",
        "\n",
        "X = df.drop(columns = 'PRICE')\n",
        "\n",
        "X_train, X_test, y_train, y_test = train_test_split(X, y, random_state=42)\n"
      ],
      "metadata": {
        "id": "9iFAY3BR5A2T"
      },
      "execution_count": 51,
      "outputs": []
    },
    {
      "cell_type": "code",
      "source": [
        "# decision trees"
      ],
      "metadata": {
        "id": "ggmjNsuVWGlJ"
      },
      "execution_count": 52,
      "outputs": []
    },
    {
      "cell_type": "code",
      "source": [
        "dec_tree = DecisionTreeRegressor(random_state=40)"
      ],
      "metadata": {
        "id": "FEYwHSnCQDnA"
      },
      "execution_count": 53,
      "outputs": []
    },
    {
      "cell_type": "code",
      "source": [
        "dec_tree.fit(X_train, y_train)"
      ],
      "metadata": {
        "colab": {
          "base_uri": "https://localhost:8080/"
        },
        "id": "ZkqhCIKgQDqZ",
        "outputId": "2c20b37d-dd1f-416e-949d-26516f9a8c8e"
      },
      "execution_count": 54,
      "outputs": [
        {
          "output_type": "execute_result",
          "data": {
            "text/plain": [
              "DecisionTreeRegressor(random_state=40)"
            ]
          },
          "metadata": {},
          "execution_count": 54
        }
      ]
    },
    {
      "cell_type": "code",
      "source": [
        "train_preds = dec_tree.predict(X_test)\n",
        "test_preds = dec_tree.predict(X_test)"
      ],
      "metadata": {
        "id": "3g_Oq_1sQDtx"
      },
      "execution_count": 55,
      "outputs": []
    },
    {
      "cell_type": "code",
      "source": [
        "train_score = dec_tree.score(X_train, y_train)\n",
        "test_score = dec_tree.score(X_test, y_test)\n",
        "print(train_score)\n",
        "print(test_score)"
      ],
      "metadata": {
        "colab": {
          "base_uri": "https://localhost:8080/"
        },
        "id": "zlyeQyOeQalx",
        "outputId": "b0614e10-d865-47b9-e815-7a89c55e4a6a"
      },
      "execution_count": 56,
      "outputs": [
        {
          "output_type": "stream",
          "name": "stdout",
          "text": [
            "1.0\n",
            "0.8264025233831367\n"
          ]
        }
      ]
    },
    {
      "cell_type": "code",
      "source": [
        "dec_tree_2 = DecisionTreeRegressor(max_depth = 15, random_state = 40)\n",
        "dec_tree_2.fit(X_train, y_train)\n",
        "train_2_score = dec_tree_2.score(X_train, y_train)\n",
        "test_2_score = dec_tree_2.score(X_test, y_test)\n",
        "print(train_2_score)\n",
        "print(test_2_score)"
      ],
      "metadata": {
        "colab": {
          "base_uri": "https://localhost:8080/"
        },
        "id": "-MYwMsCPWJGh",
        "outputId": "50610bc2-2db5-45f9-b112-725058a93bd0"
      },
      "execution_count": 57,
      "outputs": [
        {
          "output_type": "stream",
          "name": "stdout",
          "text": [
            "0.999476270721798\n",
            "0.7700332977123185\n"
          ]
        }
      ]
    },
    {
      "cell_type": "code",
      "source": [
        "# bagged trees"
      ],
      "metadata": {
        "id": "F5ACgfvYQap3"
      },
      "execution_count": 58,
      "outputs": []
    },
    {
      "cell_type": "code",
      "source": [
        "bagreg = BaggingRegressor(random_state = 38)"
      ],
      "metadata": {
        "id": "MixXY-UeQato"
      },
      "execution_count": 59,
      "outputs": []
    },
    {
      "cell_type": "code",
      "source": [
        "bagreg.fit(X_train, y_train)"
      ],
      "metadata": {
        "colab": {
          "base_uri": "https://localhost:8080/"
        },
        "id": "Ns_5Xk0uQm31",
        "outputId": "c649b64d-a796-435a-aa7b-3eadb9369cde"
      },
      "execution_count": 60,
      "outputs": [
        {
          "output_type": "execute_result",
          "data": {
            "text/plain": [
              "BaggingRegressor(random_state=38)"
            ]
          },
          "metadata": {},
          "execution_count": 60
        }
      ]
    },
    {
      "cell_type": "code",
      "source": [
        "bagreg.predict(X_test)"
      ],
      "metadata": {
        "colab": {
          "base_uri": "https://localhost:8080/"
        },
        "id": "M8bNtw68Qm8n",
        "outputId": "177bce01-3b59-463d-d777-8bb6a33808b9"
      },
      "execution_count": 61,
      "outputs": [
        {
          "output_type": "execute_result",
          "data": {
            "text/plain": [
              "array([23.4 , 33.3 , 18.69, 23.75, 15.54, 22.05, 19.34, 15.07, 21.78,\n",
              "       20.8 , 19.55, 20.28,  7.43, 20.86, 19.17, 24.98, 18.45,  7.94,\n",
              "       46.21, 14.5 , 23.71, 22.98, 13.92, 22.97, 14.04, 13.96, 20.37,\n",
              "       14.48, 18.73, 21.85, 20.94, 22.9 , 25.8 , 20.17, 14.26, 16.06,\n",
              "       34.25, 18.66, 19.54, 23.98, 20.04, 28.24, 45.66, 20.8 , 21.12,\n",
              "       13.26, 14.73, 23.8 , 18.04, 29.38, 21.6 , 34.39, 16.47, 27.45,\n",
              "       43.05, 21.42, 14.93, 32.11, 21.31, 21.63, 25.64, 33.19, 32.01,\n",
              "       18.95, 28.19, 16.51, 14.4 , 22.76, 27.49, 17.9 , 21.51, 31.98,\n",
              "       10.17, 23.21, 21.12,  6.4 , 20.48, 46.65, 12.71, 12.68, 20.44,\n",
              "       12.8 , 21.33, 10.01, 20.15, 26.05, 15.65, 23.22, 25.4 , 18.02,\n",
              "       22.26,  7.26, 18.51, 19.77, 22.26, 18.86, 30.17, 11.56, 14.08,\n",
              "       13.6 , 19.17, 22.26, 12.89, 20.58, 20.36, 13.58, 18.88, 24.32,\n",
              "       20.59, 25.36,  9.45, 17.08, 22.1 , 22.24, 33.27, 14.87, 40.58,\n",
              "       16.79, 19.95, 23.64, 21.08, 24.14,  8.45, 21.41, 23.65, 21.74,\n",
              "       25.76])"
            ]
          },
          "metadata": {},
          "execution_count": 61
        }
      ]
    },
    {
      "cell_type": "code",
      "source": [
        "bagreg_train_score = bagreg.score(X_train, y_train)\n",
        "bagreg_test_score = bagreg.score(X_test, y_test)\n",
        "print(bagreg_train_score)\n",
        "print(bagreg_test_score)"
      ],
      "metadata": {
        "colab": {
          "base_uri": "https://localhost:8080/"
        },
        "id": "gCNV_h8yQnBO",
        "outputId": "4f875f14-f0e2-4e31-e954-4ded3d4aa08d"
      },
      "execution_count": 62,
      "outputs": [
        {
          "output_type": "stream",
          "name": "stdout",
          "text": [
            "0.9695965379173723\n",
            "0.8186595753327363\n"
          ]
        }
      ]
    },
    {
      "cell_type": "code",
      "source": [
        "estimators = [10, 20, 30, 40, 50, 100]\n",
        "scores = pd.DataFrame(index=estimators, columns=['Train Score', 'Test Score'])"
      ],
      "metadata": {
        "id": "8f4dnIOnRjng"
      },
      "execution_count": 63,
      "outputs": []
    },
    {
      "cell_type": "code",
      "source": [
        "scores = scores.sort_values(by='Test Score', ascending=False)"
      ],
      "metadata": {
        "id": "rxYqBK-gRQjy"
      },
      "execution_count": 64,
      "outputs": []
    },
    {
      "cell_type": "code",
      "source": [
        "best_n_estimators = scores.index[0]\n",
        "# Instantiate and fit the best version of the model\n",
        "bag_reg_tuned = BaggingRegressor(n_estimators=best_n_estimators,)\n",
        "bag_reg_tuned.fit(X_train, y_train)\n",
        "# Evaluate the model\n",
        "print(bag_reg_tuned.score(X_train, y_train))\n",
        "print(bag_reg_tuned.score(X_test, y_test))"
      ],
      "metadata": {
        "colab": {
          "base_uri": "https://localhost:8080/"
        },
        "id": "M3EDn9o8RQm-",
        "outputId": "815f1706-3f12-4eed-f950-5d88331c6a59"
      },
      "execution_count": 65,
      "outputs": [
        {
          "output_type": "stream",
          "name": "stdout",
          "text": [
            "0.9620874461387513\n",
            "0.8245799680167951\n"
          ]
        }
      ]
    },
    {
      "cell_type": "code",
      "source": [
        "# random forest "
      ],
      "metadata": {
        "id": "_JHfiPAfRQqK"
      },
      "execution_count": 66,
      "outputs": []
    },
    {
      "cell_type": "code",
      "source": [
        "rf = RandomForestRegressor(random_state = 36)"
      ],
      "metadata": {
        "id": "ljJpOle7SF7p"
      },
      "execution_count": 67,
      "outputs": []
    },
    {
      "cell_type": "code",
      "source": [
        "rf.fit(X_train, y_train)"
      ],
      "metadata": {
        "colab": {
          "base_uri": "https://localhost:8080/"
        },
        "id": "03ubVldiR0dB",
        "outputId": "0e83d20c-cba6-40e8-b61a-b8ad19fc0e89"
      },
      "execution_count": 68,
      "outputs": [
        {
          "output_type": "execute_result",
          "data": {
            "text/plain": [
              "RandomForestRegressor(random_state=36)"
            ]
          },
          "metadata": {},
          "execution_count": 68
        }
      ]
    },
    {
      "cell_type": "code",
      "source": [
        "rf.predict(X_test)"
      ],
      "metadata": {
        "colab": {
          "base_uri": "https://localhost:8080/"
        },
        "id": "zpJ98iWaR0gh",
        "outputId": "28cde797-43cf-483b-df99-9d11cb10c44d"
      },
      "execution_count": 69,
      "outputs": [
        {
          "output_type": "execute_result",
          "data": {
            "text/plain": [
              "array([22.754, 30.399, 18.379, 23.508, 15.744, 20.866, 18.343, 15.67 ,\n",
              "       21.176, 20.996, 19.632, 19.492,  8.377, 21.816, 18.789, 26.783,\n",
              "       19.198,  8.308, 46.077, 15.482, 23.606, 23.634, 14.143, 23.228,\n",
              "       15.079, 13.612, 21.298, 14.377, 19.195, 20.731, 19.689, 23.861,\n",
              "       30.535, 21.488, 14.301, 15.736, 34.667, 19.089, 20.5  , 23.931,\n",
              "       19.246, 27.962, 45.409, 20.31 , 22.032, 14.142, 15.141, 23.857,\n",
              "       17.628, 28.288, 21.902, 33.658, 16.169, 26.764, 45.718, 21.899,\n",
              "       15.633, 31.885, 22.075, 20.831, 26.064, 33.753, 30.42 , 18.838,\n",
              "       26.992, 16.323, 15.13 , 23.083, 27.447, 16.556, 20.161, 33.172,\n",
              "       10.388, 21.737, 21.215,  7.226, 19.87 , 46.929, 12.093, 13.165,\n",
              "       21.508, 12.47 , 20.975,  8.778, 20.988, 27.017, 15.333, 23.618,\n",
              "       23.621, 17.899, 21.936,  7.69 , 18.728, 20.114, 24.985, 19.273,\n",
              "       34.898, 13.188, 13.381, 12.983, 20.195, 23.797, 12.851, 18.957,\n",
              "       21.65 , 14.042, 18.575, 24.908, 20.525, 23.855,  8.882, 17.41 ,\n",
              "       22.444, 22.915, 33.485, 13.103, 42.272, 16.432, 19.358, 23.707,\n",
              "       20.065, 24.349,  7.095, 20.829, 24.271, 22.314, 24.183])"
            ]
          },
          "metadata": {},
          "execution_count": 69
        }
      ]
    },
    {
      "cell_type": "code",
      "source": [
        "rf_train_score = rf.score(X_train, y_train)\n",
        "rf_test_score = rf.score(X_test, y_test)\n",
        "print(rf_train_score)\n",
        "print(rf_test_score)"
      ],
      "metadata": {
        "colab": {
          "base_uri": "https://localhost:8080/"
        },
        "id": "QYvxWcPDR0kF",
        "outputId": "a732ae0b-8197-46b1-b0c5-598872c3b9f5"
      },
      "execution_count": 70,
      "outputs": [
        {
          "output_type": "stream",
          "name": "stdout",
          "text": [
            "0.9757381995710334\n",
            "0.8372231477550753\n"
          ]
        }
      ]
    },
    {
      "cell_type": "code",
      "source": [
        "#improving the model\n",
        "rf_9 = RandomForestRegressor(max_depth = 9, random_state = 42)\n",
        "rf_9.fit(X_train, y_train)\n",
        "rf_9_train_score = rf_9.score(X_train, y_train)\n",
        "rf_9_test_score = rf_9.score(X_test, y_test)\n",
        "print(rf_9_train_score)\n",
        "print(rf_9_test_score)"
      ],
      "metadata": {
        "colab": {
          "base_uri": "https://localhost:8080/"
        },
        "id": "agMUU0VER0q6",
        "outputId": "7474f750-e1c5-4bad-a459-8f7d2fc5d277"
      },
      "execution_count": 71,
      "outputs": [
        {
          "output_type": "stream",
          "name": "stdout",
          "text": [
            "0.9708593696865943\n",
            "0.8288183588216603\n"
          ]
        }
      ]
    },
    {
      "cell_type": "code",
      "source": [
        "# I prefer the bagged tree over the other 2 models.\n",
        "# They are predicting values with a higher accuracy compared to others.\n",
        "# While we can't use max_depth on them, we use estimators to predict the values.\n",
        "# They are slower to train and slower to predict then the others but they are better in performance.\n",
        "# They are also more reliable."
      ],
      "metadata": {
        "id": "vm-Us2joWdZ4"
      },
      "execution_count": null,
      "outputs": []
    }
  ]
}